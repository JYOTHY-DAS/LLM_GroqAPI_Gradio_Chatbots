{
  "cells": [
    {
      "cell_type": "markdown",
      "metadata": {
        "id": "9ofdszu-FvGS"
      },
      "source": [
        "# Install Packages"
      ]
    },
    {
      "cell_type": "code",
      "execution_count": 110,
      "metadata": {
        "colab": {
          "base_uri": "https://localhost:8080/"
        },
        "id": "6Awpd8EPhe_9",
        "outputId": "6ad0a454-54ec-4259-caf3-acb63b617ef5"
      },
      "outputs": [
        {
          "name": "stdout",
          "output_type": "stream",
          "text": [
            "Requirement already satisfied: groq in d:\\ict academy\\git_clone\\llm_groqapi_gradio_chatbots\\notebooks\\.venv\\lib\\site-packages (0.19.0)\n",
            "Requirement already satisfied: anyio<5,>=3.5.0 in d:\\ict academy\\git_clone\\llm_groqapi_gradio_chatbots\\notebooks\\.venv\\lib\\site-packages (from groq) (4.8.0)\n",
            "Requirement already satisfied: distro<2,>=1.7.0 in d:\\ict academy\\git_clone\\llm_groqapi_gradio_chatbots\\notebooks\\.venv\\lib\\site-packages (from groq) (1.9.0)\n",
            "Requirement already satisfied: httpx<1,>=0.23.0 in d:\\ict academy\\git_clone\\llm_groqapi_gradio_chatbots\\notebooks\\.venv\\lib\\site-packages (from groq) (0.28.1)\n",
            "Requirement already satisfied: pydantic<3,>=1.9.0 in d:\\ict academy\\git_clone\\llm_groqapi_gradio_chatbots\\notebooks\\.venv\\lib\\site-packages (from groq) (2.10.6)\n",
            "Requirement already satisfied: sniffio in d:\\ict academy\\git_clone\\llm_groqapi_gradio_chatbots\\notebooks\\.venv\\lib\\site-packages (from groq) (1.3.1)\n",
            "Requirement already satisfied: typing-extensions<5,>=4.10 in d:\\ict academy\\git_clone\\llm_groqapi_gradio_chatbots\\notebooks\\.venv\\lib\\site-packages (from groq) (4.12.2)\n",
            "Requirement already satisfied: idna>=2.8 in d:\\ict academy\\git_clone\\llm_groqapi_gradio_chatbots\\notebooks\\.venv\\lib\\site-packages (from anyio<5,>=3.5.0->groq) (3.10)\n",
            "Requirement already satisfied: certifi in d:\\ict academy\\git_clone\\llm_groqapi_gradio_chatbots\\notebooks\\.venv\\lib\\site-packages (from httpx<1,>=0.23.0->groq) (2025.1.31)\n",
            "Requirement already satisfied: httpcore==1.* in d:\\ict academy\\git_clone\\llm_groqapi_gradio_chatbots\\notebooks\\.venv\\lib\\site-packages (from httpx<1,>=0.23.0->groq) (1.0.7)\n",
            "Requirement already satisfied: h11<0.15,>=0.13 in d:\\ict academy\\git_clone\\llm_groqapi_gradio_chatbots\\notebooks\\.venv\\lib\\site-packages (from httpcore==1.*->httpx<1,>=0.23.0->groq) (0.14.0)\n",
            "Requirement already satisfied: annotated-types>=0.6.0 in d:\\ict academy\\git_clone\\llm_groqapi_gradio_chatbots\\notebooks\\.venv\\lib\\site-packages (from pydantic<3,>=1.9.0->groq) (0.7.0)\n",
            "Requirement already satisfied: pydantic-core==2.27.2 in d:\\ict academy\\git_clone\\llm_groqapi_gradio_chatbots\\notebooks\\.venv\\lib\\site-packages (from pydantic<3,>=1.9.0->groq) (2.27.2)\n",
            "Note: you may need to restart the kernel to use updated packages.\n"
          ]
        }
      ],
      "source": [
        "pip install groq"
      ]
    },
    {
      "cell_type": "code",
      "execution_count": 111,
      "metadata": {
        "colab": {
          "base_uri": "https://localhost:8080/"
        },
        "id": "VRW7xmZpF5AD",
        "outputId": "dfe3ed8d-4890-4649-ec29-8e1754f0ce9f"
      },
      "outputs": [
        {
          "name": "stdout",
          "output_type": "stream",
          "text": [
            "Requirement already satisfied: gradio in d:\\ict academy\\git_clone\\llm_groqapi_gradio_chatbots\\notebooks\\.venv\\lib\\site-packages (5.21.0)\n",
            "Requirement already satisfied: aiofiles<24.0,>=22.0 in d:\\ict academy\\git_clone\\llm_groqapi_gradio_chatbots\\notebooks\\.venv\\lib\\site-packages (from gradio) (23.2.1)\n",
            "Requirement already satisfied: anyio<5.0,>=3.0 in d:\\ict academy\\git_clone\\llm_groqapi_gradio_chatbots\\notebooks\\.venv\\lib\\site-packages (from gradio) (4.8.0)\n",
            "Requirement already satisfied: fastapi<1.0,>=0.115.2 in d:\\ict academy\\git_clone\\llm_groqapi_gradio_chatbots\\notebooks\\.venv\\lib\\site-packages (from gradio) (0.115.11)\n",
            "Requirement already satisfied: ffmpy in d:\\ict academy\\git_clone\\llm_groqapi_gradio_chatbots\\notebooks\\.venv\\lib\\site-packages (from gradio) (0.5.0)\n",
            "Requirement already satisfied: gradio-client==1.7.2 in d:\\ict academy\\git_clone\\llm_groqapi_gradio_chatbots\\notebooks\\.venv\\lib\\site-packages (from gradio) (1.7.2)\n",
            "Requirement already satisfied: groovy~=0.1 in d:\\ict academy\\git_clone\\llm_groqapi_gradio_chatbots\\notebooks\\.venv\\lib\\site-packages (from gradio) (0.1.2)\n",
            "Requirement already satisfied: httpx>=0.24.1 in d:\\ict academy\\git_clone\\llm_groqapi_gradio_chatbots\\notebooks\\.venv\\lib\\site-packages (from gradio) (0.28.1)\n",
            "Requirement already satisfied: huggingface-hub>=0.28.1 in d:\\ict academy\\git_clone\\llm_groqapi_gradio_chatbots\\notebooks\\.venv\\lib\\site-packages (from gradio) (0.29.3)\n",
            "Requirement already satisfied: jinja2<4.0 in d:\\ict academy\\git_clone\\llm_groqapi_gradio_chatbots\\notebooks\\.venv\\lib\\site-packages (from gradio) (3.1.6)\n",
            "Requirement already satisfied: markupsafe~=2.0 in d:\\ict academy\\git_clone\\llm_groqapi_gradio_chatbots\\notebooks\\.venv\\lib\\site-packages (from gradio) (2.1.5)\n",
            "Requirement already satisfied: numpy<3.0,>=1.0 in d:\\ict academy\\git_clone\\llm_groqapi_gradio_chatbots\\notebooks\\.venv\\lib\\site-packages (from gradio) (2.2.4)\n",
            "Requirement already satisfied: orjson~=3.0 in d:\\ict academy\\git_clone\\llm_groqapi_gradio_chatbots\\notebooks\\.venv\\lib\\site-packages (from gradio) (3.10.15)\n",
            "Requirement already satisfied: packaging in d:\\ict academy\\git_clone\\llm_groqapi_gradio_chatbots\\notebooks\\.venv\\lib\\site-packages (from gradio) (24.2)\n",
            "Requirement already satisfied: pandas<3.0,>=1.0 in d:\\ict academy\\git_clone\\llm_groqapi_gradio_chatbots\\notebooks\\.venv\\lib\\site-packages (from gradio) (2.2.3)\n",
            "Requirement already satisfied: pillow<12.0,>=8.0 in d:\\ict academy\\git_clone\\llm_groqapi_gradio_chatbots\\notebooks\\.venv\\lib\\site-packages (from gradio) (11.1.0)\n",
            "Requirement already satisfied: pydantic>=2.0 in d:\\ict academy\\git_clone\\llm_groqapi_gradio_chatbots\\notebooks\\.venv\\lib\\site-packages (from gradio) (2.10.6)\n",
            "Requirement already satisfied: pydub in d:\\ict academy\\git_clone\\llm_groqapi_gradio_chatbots\\notebooks\\.venv\\lib\\site-packages (from gradio) (0.25.1)\n",
            "Requirement already satisfied: python-multipart>=0.0.18 in d:\\ict academy\\git_clone\\llm_groqapi_gradio_chatbots\\notebooks\\.venv\\lib\\site-packages (from gradio) (0.0.20)\n",
            "Requirement already satisfied: pyyaml<7.0,>=5.0 in d:\\ict academy\\git_clone\\llm_groqapi_gradio_chatbots\\notebooks\\.venv\\lib\\site-packages (from gradio) (6.0.2)\n",
            "Requirement already satisfied: ruff>=0.9.3 in d:\\ict academy\\git_clone\\llm_groqapi_gradio_chatbots\\notebooks\\.venv\\lib\\site-packages (from gradio) (0.11.0)\n",
            "Requirement already satisfied: safehttpx<0.2.0,>=0.1.6 in d:\\ict academy\\git_clone\\llm_groqapi_gradio_chatbots\\notebooks\\.venv\\lib\\site-packages (from gradio) (0.1.6)\n",
            "Requirement already satisfied: semantic-version~=2.0 in d:\\ict academy\\git_clone\\llm_groqapi_gradio_chatbots\\notebooks\\.venv\\lib\\site-packages (from gradio) (2.10.0)\n",
            "Requirement already satisfied: starlette<1.0,>=0.40.0 in d:\\ict academy\\git_clone\\llm_groqapi_gradio_chatbots\\notebooks\\.venv\\lib\\site-packages (from gradio) (0.46.1)\n",
            "Requirement already satisfied: tomlkit<0.14.0,>=0.12.0 in d:\\ict academy\\git_clone\\llm_groqapi_gradio_chatbots\\notebooks\\.venv\\lib\\site-packages (from gradio) (0.13.2)\n",
            "Requirement already satisfied: typer<1.0,>=0.12 in d:\\ict academy\\git_clone\\llm_groqapi_gradio_chatbots\\notebooks\\.venv\\lib\\site-packages (from gradio) (0.15.2)\n",
            "Requirement already satisfied: typing-extensions~=4.0 in d:\\ict academy\\git_clone\\llm_groqapi_gradio_chatbots\\notebooks\\.venv\\lib\\site-packages (from gradio) (4.12.2)\n",
            "Requirement already satisfied: uvicorn>=0.14.0 in d:\\ict academy\\git_clone\\llm_groqapi_gradio_chatbots\\notebooks\\.venv\\lib\\site-packages (from gradio) (0.34.0)\n",
            "Requirement already satisfied: fsspec in d:\\ict academy\\git_clone\\llm_groqapi_gradio_chatbots\\notebooks\\.venv\\lib\\site-packages (from gradio-client==1.7.2->gradio) (2025.3.0)\n",
            "Requirement already satisfied: websockets<16.0,>=10.0 in d:\\ict academy\\git_clone\\llm_groqapi_gradio_chatbots\\notebooks\\.venv\\lib\\site-packages (from gradio-client==1.7.2->gradio) (15.0.1)\n",
            "Requirement already satisfied: idna>=2.8 in d:\\ict academy\\git_clone\\llm_groqapi_gradio_chatbots\\notebooks\\.venv\\lib\\site-packages (from anyio<5.0,>=3.0->gradio) (3.10)\n",
            "Requirement already satisfied: sniffio>=1.1 in d:\\ict academy\\git_clone\\llm_groqapi_gradio_chatbots\\notebooks\\.venv\\lib\\site-packages (from anyio<5.0,>=3.0->gradio) (1.3.1)\n",
            "Requirement already satisfied: certifi in d:\\ict academy\\git_clone\\llm_groqapi_gradio_chatbots\\notebooks\\.venv\\lib\\site-packages (from httpx>=0.24.1->gradio) (2025.1.31)\n",
            "Requirement already satisfied: httpcore==1.* in d:\\ict academy\\git_clone\\llm_groqapi_gradio_chatbots\\notebooks\\.venv\\lib\\site-packages (from httpx>=0.24.1->gradio) (1.0.7)\n",
            "Requirement already satisfied: h11<0.15,>=0.13 in d:\\ict academy\\git_clone\\llm_groqapi_gradio_chatbots\\notebooks\\.venv\\lib\\site-packages (from httpcore==1.*->httpx>=0.24.1->gradio) (0.14.0)\n",
            "Requirement already satisfied: filelock in d:\\ict academy\\git_clone\\llm_groqapi_gradio_chatbots\\notebooks\\.venv\\lib\\site-packages (from huggingface-hub>=0.28.1->gradio) (3.18.0)\n",
            "Requirement already satisfied: requests in d:\\ict academy\\git_clone\\llm_groqapi_gradio_chatbots\\notebooks\\.venv\\lib\\site-packages (from huggingface-hub>=0.28.1->gradio) (2.32.3)\n",
            "Requirement already satisfied: tqdm>=4.42.1 in d:\\ict academy\\git_clone\\llm_groqapi_gradio_chatbots\\notebooks\\.venv\\lib\\site-packages (from huggingface-hub>=0.28.1->gradio) (4.67.1)\n",
            "Requirement already satisfied: python-dateutil>=2.8.2 in d:\\ict academy\\git_clone\\llm_groqapi_gradio_chatbots\\notebooks\\.venv\\lib\\site-packages (from pandas<3.0,>=1.0->gradio) (2.9.0.post0)\n",
            "Requirement already satisfied: pytz>=2020.1 in d:\\ict academy\\git_clone\\llm_groqapi_gradio_chatbots\\notebooks\\.venv\\lib\\site-packages (from pandas<3.0,>=1.0->gradio) (2025.1)\n",
            "Requirement already satisfied: tzdata>=2022.7 in d:\\ict academy\\git_clone\\llm_groqapi_gradio_chatbots\\notebooks\\.venv\\lib\\site-packages (from pandas<3.0,>=1.0->gradio) (2025.1)\n",
            "Requirement already satisfied: annotated-types>=0.6.0 in d:\\ict academy\\git_clone\\llm_groqapi_gradio_chatbots\\notebooks\\.venv\\lib\\site-packages (from pydantic>=2.0->gradio) (0.7.0)\n",
            "Requirement already satisfied: pydantic-core==2.27.2 in d:\\ict academy\\git_clone\\llm_groqapi_gradio_chatbots\\notebooks\\.venv\\lib\\site-packages (from pydantic>=2.0->gradio) (2.27.2)\n",
            "Requirement already satisfied: click>=8.0.0 in d:\\ict academy\\git_clone\\llm_groqapi_gradio_chatbots\\notebooks\\.venv\\lib\\site-packages (from typer<1.0,>=0.12->gradio) (8.1.8)\n",
            "Requirement already satisfied: shellingham>=1.3.0 in d:\\ict academy\\git_clone\\llm_groqapi_gradio_chatbots\\notebooks\\.venv\\lib\\site-packages (from typer<1.0,>=0.12->gradio) (1.5.4)\n",
            "Requirement already satisfied: rich>=10.11.0 in d:\\ict academy\\git_clone\\llm_groqapi_gradio_chatbots\\notebooks\\.venv\\lib\\site-packages (from typer<1.0,>=0.12->gradio) (13.9.4)\n",
            "Requirement already satisfied: colorama in d:\\ict academy\\git_clone\\llm_groqapi_gradio_chatbots\\notebooks\\.venv\\lib\\site-packages (from click>=8.0.0->typer<1.0,>=0.12->gradio) (0.4.6)\n",
            "Requirement already satisfied: six>=1.5 in d:\\ict academy\\git_clone\\llm_groqapi_gradio_chatbots\\notebooks\\.venv\\lib\\site-packages (from python-dateutil>=2.8.2->pandas<3.0,>=1.0->gradio) (1.17.0)\n",
            "Requirement already satisfied: markdown-it-py>=2.2.0 in d:\\ict academy\\git_clone\\llm_groqapi_gradio_chatbots\\notebooks\\.venv\\lib\\site-packages (from rich>=10.11.0->typer<1.0,>=0.12->gradio) (3.0.0)\n",
            "Requirement already satisfied: pygments<3.0.0,>=2.13.0 in d:\\ict academy\\git_clone\\llm_groqapi_gradio_chatbots\\notebooks\\.venv\\lib\\site-packages (from rich>=10.11.0->typer<1.0,>=0.12->gradio) (2.19.1)\n",
            "Requirement already satisfied: charset-normalizer<4,>=2 in d:\\ict academy\\git_clone\\llm_groqapi_gradio_chatbots\\notebooks\\.venv\\lib\\site-packages (from requests->huggingface-hub>=0.28.1->gradio) (3.4.1)\n",
            "Requirement already satisfied: urllib3<3,>=1.21.1 in d:\\ict academy\\git_clone\\llm_groqapi_gradio_chatbots\\notebooks\\.venv\\lib\\site-packages (from requests->huggingface-hub>=0.28.1->gradio) (2.3.0)\n",
            "Requirement already satisfied: mdurl~=0.1 in d:\\ict academy\\git_clone\\llm_groqapi_gradio_chatbots\\notebooks\\.venv\\lib\\site-packages (from markdown-it-py>=2.2.0->rich>=10.11.0->typer<1.0,>=0.12->gradio) (0.1.2)\n",
            "Note: you may need to restart the kernel to use updated packages.\n"
          ]
        }
      ],
      "source": [
        "pip install gradio"
      ]
    },
    {
      "cell_type": "markdown",
      "metadata": {
        "id": "hAHRE8mwF9YP"
      },
      "source": [
        "# Import the Packages"
      ]
    },
    {
      "cell_type": "code",
      "execution_count": 112,
      "metadata": {
        "id": "G2NgNuRtF8sa"
      },
      "outputs": [],
      "source": [
        "import gradio\n",
        "from groq import Groq"
      ]
    },
    {
      "cell_type": "code",
      "execution_count": 113,
      "metadata": {
        "id": "wo-F9exhi0Go"
      },
      "outputs": [],
      "source": [
        "client = Groq(api_key=\"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\") # API key generated by Groq"
      ]
    },
    {
      "cell_type": "markdown",
      "metadata": {
        "id": "UBDBWdaGGdly"
      },
      "source": [
        "# Define a function to give content and role"
      ]
    },
    {
      "cell_type": "code",
      "execution_count": 114,
      "metadata": {
        "id": "JXTcFFD3Gn7Z"
      },
      "outputs": [],
      "source": [
        "def initialize_messages():\n",
        "    return [{\"role\": \"system\",\n",
        "             \"content\": \"You are a renowned oncologist with a proven track record in successfully guiding cancer patients through their journey. Your role is to provide accurate, compassionate, and research-backed information on cancer prevention, diagnosis, treatment options, and survivorship.\"}]"
      ]
    },
    {
      "cell_type": "markdown",
      "metadata": {
        "id": "Dguo_7R7GuPx"
      },
      "source": [
        "# Assign it to a variable"
      ]
    },
    {
      "cell_type": "code",
      "execution_count": 115,
      "metadata": {
        "id": "O9GE9CyoGpUh"
      },
      "outputs": [],
      "source": [
        "messages_prmt = initialize_messages()"
      ]
    },
    {
      "cell_type": "markdown",
      "metadata": {
        "id": "dgLDPP9qGtjv"
      },
      "source": [
        "# Define a function to connect with LLM"
      ]
    },
    {
      "cell_type": "code",
      "execution_count": 116,
      "metadata": {
        "id": "SWPdbfb3kUWN"
      },
      "outputs": [],
      "source": [
        "def customLLMBot(user_input, history):\n",
        "    global messages_prmt\n",
        "\n",
        "    messages_prmt.append({\"role\": \"user\", \"content\": user_input})\n",
        "\n",
        "    response = client.chat.completions.create(\n",
        "        messages=messages_prmt,\n",
        "        model=\"llama3-8b-8192\",\n",
        "    )\n",
        "    print(response)\n",
        "    LLM_reply = response.choices[0].message.content\n",
        "    messages_prmt.append({\"role\": \"assistant\", \"content\": LLM_reply}) \n",
        "\n",
        "    return LLM_reply"
      ]
    },
    {
      "cell_type": "markdown",
      "metadata": {},
      "source": [
        "#### Note : \n",
        "##### Here:\n",
        "- \"system\" defines that the following \"content\" is a system-level instruction.\n",
        "- \"user\" defines that the following \"content\" is an input/question from the user.\n",
        "- \"assistant\" generates a response based on the system instruction + user input."
      ]
    },
    {
      "cell_type": "markdown",
      "metadata": {
        "id": "oKw3wPFbHa8L"
      },
      "source": [
        "# Create an object of chat interface class in gradio"
      ]
    },
    {
      "cell_type": "code",
      "execution_count": 117,
      "metadata": {
        "colab": {
          "base_uri": "https://localhost:8080/"
        },
        "id": "nzNnXvP-HWth",
        "outputId": "c6c2d98b-3266-4afc-b3c5-ab30a2c8033b"
      },
      "outputs": [
        {
          "name": "stderr",
          "output_type": "stream",
          "text": [
            "C:\\Users\\Jyothy\\AppData\\Local\\Temp\\ipykernel_14968\\2683919889.py:2: UserWarning: You have not specified a value for the `type` parameter. Defaulting to the 'tuples' format for chatbot messages, but this is deprecated and will be removed in a future version of Gradio. Please set type='messages' instead, which uses openai-style dictionaries with 'role' and 'content' keys.\n",
            "  chatbot=gradio.Chatbot(height=500, bubble_full_width=False, show_label=False),\n",
            "C:\\Users\\Jyothy\\AppData\\Local\\Temp\\ipykernel_14968\\2683919889.py:2: DeprecationWarning: The 'bubble_full_width' parameter is deprecated and will be removed in a future version. This parameter no longer has any effect.\n",
            "  chatbot=gradio.Chatbot(height=500, bubble_full_width=False, show_label=False),\n",
            "d:\\ICT Academy\\Git_Clone\\LLM_GroqAPI_Gradio_Chatbots\\notebooks\\.venv\\Lib\\site-packages\\gradio\\chat_interface.py:317: UserWarning: The gr.ChatInterface was not provided with a type, so the type of the gr.Chatbot, 'tuples', will be used.\n",
            "  warnings.warn(\n"
          ]
        }
      ],
      "source": [
        "iface = gradio.ChatInterface(customLLMBot,\n",
        "                    chatbot=gradio.Chatbot(height=500, bubble_full_width=False, show_label=False),\n",
        "                    textbox=gradio.Textbox(placeholder=\"Ask me a question about cancer treatment.\", lines=1),\n",
        "                    title=\"Hope\",\n",
        "                    description=\"\"\"<center>\n",
        "                                <img src=\"https://www.shutterstock.com/image-vector/general-cancer-awareness-ribbon-concept-600nw-247222222.jpg\" \n",
        "                                alt=\"Cancer Care\" width=\"150\">\n",
        "                                </center>\n",
        "                                <p style=\"text-align: center;\"><strong>AI-Powered Cancer Care Assistant</strong></p>\"\"\",\n",
        "                    theme=\"glass\",\n",
        "                    examples=[\"Hi\",\"What are the early signs of cancer?\", \"What are the side effects of chemotherapy?\"],\n",
        "                    submit_btn=True,\n",
        "                    css=\".gradio-container {background-color: #aebaf5; font-family: Arial;} .chatbot {border-radius: 15px; background-color: #babebf;}\"\n",
        "                     )"
      ]
    },
    {
      "cell_type": "markdown",
      "metadata": {
        "id": "3uPGx5-xHqVq"
      },
      "source": [
        "# Call launch function to execute"
      ]
    },
    {
      "cell_type": "code",
      "execution_count": 118,
      "metadata": {
        "colab": {
          "base_uri": "https://localhost:8080/",
          "height": 611
        },
        "id": "5AO10vRxH27X",
        "outputId": "058664fa-4168-47c5-a021-14a7c7dfbd98"
      },
      "outputs": [
        {
          "name": "stdout",
          "output_type": "stream",
          "text": [
            "* Running on local URL:  http://127.0.0.1:7878\n",
            "* Running on public URL: https://ee2cd2edebc0fefbee.gradio.live\n",
            "\n",
            "This share link expires in 72 hours. For free permanent hosting and GPU upgrades, run `gradio deploy` from the terminal in the working directory to deploy to Hugging Face Spaces (https://huggingface.co/spaces)\n"
          ]
        },
        {
          "data": {
            "text/html": [
              "<div><iframe src=\"https://ee2cd2edebc0fefbee.gradio.live\" width=\"100%\" height=\"500\" allow=\"autoplay; camera; microphone; clipboard-read; clipboard-write;\" frameborder=\"0\" allowfullscreen></iframe></div>"
            ],
            "text/plain": [
              "<IPython.core.display.HTML object>"
            ]
          },
          "metadata": {},
          "output_type": "display_data"
        },
        {
          "data": {
            "text/plain": []
          },
          "execution_count": 118,
          "metadata": {},
          "output_type": "execute_result"
        }
      ],
      "source": [
        "iface.launch(share=True) # Create public sharing link"
      ]
    }
  ],
  "metadata": {
    "accelerator": "GPU",
    "colab": {
      "gpuType": "T4",
      "provenance": []
    },
    "kernelspec": {
      "display_name": ".venv",
      "language": "python",
      "name": "python3"
    },
    "language_info": {
      "codemirror_mode": {
        "name": "ipython",
        "version": 3
      },
      "file_extension": ".py",
      "mimetype": "text/x-python",
      "name": "python",
      "nbconvert_exporter": "python",
      "pygments_lexer": "ipython3",
      "version": "3.12.6"
    }
  },
  "nbformat": 4,
  "nbformat_minor": 0
}
