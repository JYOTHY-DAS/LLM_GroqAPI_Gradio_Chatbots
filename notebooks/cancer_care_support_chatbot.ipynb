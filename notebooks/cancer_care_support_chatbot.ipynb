{
  "cells": [
    {
      "cell_type": "markdown",
      "metadata": {
        "id": "9ofdszu-FvGS"
      },
      "source": [
        "#Install Packages"
      ]
    },
    {
      "cell_type": "code",
      "execution_count": 1,
      "metadata": {
        "colab": {
          "base_uri": "https://localhost:8080/"
        },
        "id": "6Awpd8EPhe_9",
        "outputId": "6ad0a454-54ec-4259-caf3-acb63b617ef5"
      },
      "outputs": [
        {
          "name": "stdout",
          "output_type": "stream",
          "text": [
            "Collecting groq\n",
            "  Downloading groq-0.19.0-py3-none-any.whl.metadata (15 kB)\n",
            "Collecting anyio<5,>=3.5.0 (from groq)\n",
            "  Using cached anyio-4.8.0-py3-none-any.whl.metadata (4.6 kB)\n",
            "Collecting distro<2,>=1.7.0 (from groq)\n",
            "  Downloading distro-1.9.0-py3-none-any.whl.metadata (6.8 kB)\n",
            "Collecting httpx<1,>=0.23.0 (from groq)\n",
            "  Using cached httpx-0.28.1-py3-none-any.whl.metadata (7.1 kB)\n",
            "Collecting pydantic<3,>=1.9.0 (from groq)\n",
            "  Using cached pydantic-2.10.6-py3-none-any.whl.metadata (30 kB)\n",
            "Collecting sniffio (from groq)\n",
            "  Using cached sniffio-1.3.1-py3-none-any.whl.metadata (3.9 kB)\n",
            "Collecting typing-extensions<5,>=4.10 (from groq)\n",
            "  Using cached typing_extensions-4.12.2-py3-none-any.whl.metadata (3.0 kB)\n",
            "Collecting idna>=2.8 (from anyio<5,>=3.5.0->groq)\n",
            "  Using cached idna-3.10-py3-none-any.whl.metadata (10 kB)\n",
            "Collecting certifi (from httpx<1,>=0.23.0->groq)\n",
            "  Using cached certifi-2025.1.31-py3-none-any.whl.metadata (2.5 kB)\n",
            "Collecting httpcore==1.* (from httpx<1,>=0.23.0->groq)\n",
            "  Using cached httpcore-1.0.7-py3-none-any.whl.metadata (21 kB)\n",
            "Collecting h11<0.15,>=0.13 (from httpcore==1.*->httpx<1,>=0.23.0->groq)\n",
            "  Using cached h11-0.14.0-py3-none-any.whl.metadata (8.2 kB)\n",
            "Collecting annotated-types>=0.6.0 (from pydantic<3,>=1.9.0->groq)\n",
            "  Using cached annotated_types-0.7.0-py3-none-any.whl.metadata (15 kB)\n",
            "Collecting pydantic-core==2.27.2 (from pydantic<3,>=1.9.0->groq)\n",
            "  Using cached pydantic_core-2.27.2-cp312-cp312-win_amd64.whl.metadata (6.7 kB)\n",
            "Downloading groq-0.19.0-py3-none-any.whl (122 kB)\n",
            "Using cached anyio-4.8.0-py3-none-any.whl (96 kB)\n",
            "Downloading distro-1.9.0-py3-none-any.whl (20 kB)\n",
            "Using cached httpx-0.28.1-py3-none-any.whl (73 kB)\n",
            "Using cached httpcore-1.0.7-py3-none-any.whl (78 kB)\n",
            "Using cached pydantic-2.10.6-py3-none-any.whl (431 kB)\n",
            "Using cached pydantic_core-2.27.2-cp312-cp312-win_amd64.whl (2.0 MB)\n",
            "Using cached sniffio-1.3.1-py3-none-any.whl (10 kB)\n",
            "Using cached typing_extensions-4.12.2-py3-none-any.whl (37 kB)\n",
            "Using cached annotated_types-0.7.0-py3-none-any.whl (13 kB)\n",
            "Using cached idna-3.10-py3-none-any.whl (70 kB)\n",
            "Using cached certifi-2025.1.31-py3-none-any.whl (166 kB)\n",
            "Using cached h11-0.14.0-py3-none-any.whl (58 kB)\n",
            "Installing collected packages: typing-extensions, sniffio, idna, h11, distro, certifi, annotated-types, pydantic-core, httpcore, anyio, pydantic, httpx, groq\n",
            "Successfully installed annotated-types-0.7.0 anyio-4.8.0 certifi-2025.1.31 distro-1.9.0 groq-0.19.0 h11-0.14.0 httpcore-1.0.7 httpx-0.28.1 idna-3.10 pydantic-2.10.6 pydantic-core-2.27.2 sniffio-1.3.1 typing-extensions-4.12.2\n",
            "Note: you may need to restart the kernel to use updated packages.\n"
          ]
        }
      ],
      "source": [
        "pip install groq"
      ]
    },
    {
      "cell_type": "code",
      "execution_count": 2,
      "metadata": {
        "colab": {
          "base_uri": "https://localhost:8080/"
        },
        "id": "VRW7xmZpF5AD",
        "outputId": "dfe3ed8d-4890-4649-ec29-8e1754f0ce9f"
      },
      "outputs": [
        {
          "name": "stdout",
          "output_type": "stream",
          "text": [
            "Collecting gradio\n",
            "  Downloading gradio-5.21.0-py3-none-any.whl.metadata (16 kB)\n",
            "Collecting aiofiles<24.0,>=22.0 (from gradio)\n",
            "  Using cached aiofiles-23.2.1-py3-none-any.whl.metadata (9.7 kB)\n",
            "Requirement already satisfied: anyio<5.0,>=3.0 in d:\\ict academy\\git_clone\\llm_gradio_chatbots\\.venv\\lib\\site-packages (from gradio) (4.8.0)\n",
            "Collecting fastapi<1.0,>=0.115.2 (from gradio)\n",
            "  Using cached fastapi-0.115.11-py3-none-any.whl.metadata (27 kB)\n",
            "Collecting ffmpy (from gradio)\n",
            "  Using cached ffmpy-0.5.0-py3-none-any.whl.metadata (3.0 kB)\n",
            "Collecting gradio-client==1.7.2 (from gradio)\n",
            "  Using cached gradio_client-1.7.2-py3-none-any.whl.metadata (7.1 kB)\n",
            "Collecting groovy~=0.1 (from gradio)\n",
            "  Using cached groovy-0.1.2-py3-none-any.whl.metadata (6.1 kB)\n",
            "Requirement already satisfied: httpx>=0.24.1 in d:\\ict academy\\git_clone\\llm_gradio_chatbots\\.venv\\lib\\site-packages (from gradio) (0.28.1)\n",
            "Collecting huggingface-hub>=0.28.1 (from gradio)\n",
            "  Using cached huggingface_hub-0.29.3-py3-none-any.whl.metadata (13 kB)\n",
            "Collecting jinja2<4.0 (from gradio)\n",
            "  Using cached jinja2-3.1.6-py3-none-any.whl.metadata (2.9 kB)\n",
            "Collecting markupsafe~=2.0 (from gradio)\n",
            "  Using cached MarkupSafe-2.1.5-cp312-cp312-win_amd64.whl.metadata (3.1 kB)\n",
            "Collecting numpy<3.0,>=1.0 (from gradio)\n",
            "  Using cached numpy-2.2.3-cp312-cp312-win_amd64.whl.metadata (60 kB)\n",
            "Collecting orjson~=3.0 (from gradio)\n",
            "  Using cached orjson-3.10.15-cp312-cp312-win_amd64.whl.metadata (42 kB)\n",
            "Requirement already satisfied: packaging in d:\\ict academy\\git_clone\\llm_gradio_chatbots\\.venv\\lib\\site-packages (from gradio) (24.2)\n",
            "Collecting pandas<3.0,>=1.0 (from gradio)\n",
            "  Using cached pandas-2.2.3-cp312-cp312-win_amd64.whl.metadata (19 kB)\n",
            "Collecting pillow<12.0,>=8.0 (from gradio)\n",
            "  Using cached pillow-11.1.0-cp312-cp312-win_amd64.whl.metadata (9.3 kB)\n",
            "Requirement already satisfied: pydantic>=2.0 in d:\\ict academy\\git_clone\\llm_gradio_chatbots\\.venv\\lib\\site-packages (from gradio) (2.10.6)\n",
            "Collecting pydub (from gradio)\n",
            "  Using cached pydub-0.25.1-py2.py3-none-any.whl.metadata (1.4 kB)\n",
            "Collecting python-multipart>=0.0.18 (from gradio)\n",
            "  Using cached python_multipart-0.0.20-py3-none-any.whl.metadata (1.8 kB)\n",
            "Collecting pyyaml<7.0,>=5.0 (from gradio)\n",
            "  Using cached PyYAML-6.0.2-cp312-cp312-win_amd64.whl.metadata (2.1 kB)\n",
            "Collecting ruff>=0.9.3 (from gradio)\n",
            "  Downloading ruff-0.11.0-py3-none-win_amd64.whl.metadata (26 kB)\n",
            "Collecting safehttpx<0.2.0,>=0.1.6 (from gradio)\n",
            "  Using cached safehttpx-0.1.6-py3-none-any.whl.metadata (4.2 kB)\n",
            "Collecting semantic-version~=2.0 (from gradio)\n",
            "  Using cached semantic_version-2.10.0-py2.py3-none-any.whl.metadata (9.7 kB)\n",
            "Collecting starlette<1.0,>=0.40.0 (from gradio)\n",
            "  Downloading starlette-0.46.1-py3-none-any.whl.metadata (6.2 kB)\n",
            "Collecting tomlkit<0.14.0,>=0.12.0 (from gradio)\n",
            "  Using cached tomlkit-0.13.2-py3-none-any.whl.metadata (2.7 kB)\n",
            "Collecting typer<1.0,>=0.12 (from gradio)\n",
            "  Using cached typer-0.15.2-py3-none-any.whl.metadata (15 kB)\n",
            "Requirement already satisfied: typing-extensions~=4.0 in d:\\ict academy\\git_clone\\llm_gradio_chatbots\\.venv\\lib\\site-packages (from gradio) (4.12.2)\n",
            "Collecting uvicorn>=0.14.0 (from gradio)\n",
            "  Using cached uvicorn-0.34.0-py3-none-any.whl.metadata (6.5 kB)\n",
            "Collecting fsspec (from gradio-client==1.7.2->gradio)\n",
            "  Downloading fsspec-2025.3.0-py3-none-any.whl.metadata (11 kB)\n",
            "Collecting websockets<16.0,>=10.0 (from gradio-client==1.7.2->gradio)\n",
            "  Using cached websockets-15.0.1-cp312-cp312-win_amd64.whl.metadata (7.0 kB)\n",
            "Requirement already satisfied: idna>=2.8 in d:\\ict academy\\git_clone\\llm_gradio_chatbots\\.venv\\lib\\site-packages (from anyio<5.0,>=3.0->gradio) (3.10)\n",
            "Requirement already satisfied: sniffio>=1.1 in d:\\ict academy\\git_clone\\llm_gradio_chatbots\\.venv\\lib\\site-packages (from anyio<5.0,>=3.0->gradio) (1.3.1)\n",
            "Requirement already satisfied: certifi in d:\\ict academy\\git_clone\\llm_gradio_chatbots\\.venv\\lib\\site-packages (from httpx>=0.24.1->gradio) (2025.1.31)\n",
            "Requirement already satisfied: httpcore==1.* in d:\\ict academy\\git_clone\\llm_gradio_chatbots\\.venv\\lib\\site-packages (from httpx>=0.24.1->gradio) (1.0.7)\n",
            "Requirement already satisfied: h11<0.15,>=0.13 in d:\\ict academy\\git_clone\\llm_gradio_chatbots\\.venv\\lib\\site-packages (from httpcore==1.*->httpx>=0.24.1->gradio) (0.14.0)\n",
            "Collecting filelock (from huggingface-hub>=0.28.1->gradio)\n",
            "  Using cached filelock-3.18.0-py3-none-any.whl.metadata (2.9 kB)\n",
            "Collecting requests (from huggingface-hub>=0.28.1->gradio)\n",
            "  Using cached requests-2.32.3-py3-none-any.whl.metadata (4.6 kB)\n",
            "Collecting tqdm>=4.42.1 (from huggingface-hub>=0.28.1->gradio)\n",
            "  Using cached tqdm-4.67.1-py3-none-any.whl.metadata (57 kB)\n",
            "Requirement already satisfied: python-dateutil>=2.8.2 in d:\\ict academy\\git_clone\\llm_gradio_chatbots\\.venv\\lib\\site-packages (from pandas<3.0,>=1.0->gradio) (2.9.0.post0)\n",
            "Collecting pytz>=2020.1 (from pandas<3.0,>=1.0->gradio)\n",
            "  Using cached pytz-2025.1-py2.py3-none-any.whl.metadata (22 kB)\n",
            "Collecting tzdata>=2022.7 (from pandas<3.0,>=1.0->gradio)\n",
            "  Using cached tzdata-2025.1-py2.py3-none-any.whl.metadata (1.4 kB)\n",
            "Requirement already satisfied: annotated-types>=0.6.0 in d:\\ict academy\\git_clone\\llm_gradio_chatbots\\.venv\\lib\\site-packages (from pydantic>=2.0->gradio) (0.7.0)\n",
            "Requirement already satisfied: pydantic-core==2.27.2 in d:\\ict academy\\git_clone\\llm_gradio_chatbots\\.venv\\lib\\site-packages (from pydantic>=2.0->gradio) (2.27.2)\n",
            "Collecting click>=8.0.0 (from typer<1.0,>=0.12->gradio)\n",
            "  Using cached click-8.1.8-py3-none-any.whl.metadata (2.3 kB)\n",
            "Collecting shellingham>=1.3.0 (from typer<1.0,>=0.12->gradio)\n",
            "  Using cached shellingham-1.5.4-py2.py3-none-any.whl.metadata (3.5 kB)\n",
            "Collecting rich>=10.11.0 (from typer<1.0,>=0.12->gradio)\n",
            "  Using cached rich-13.9.4-py3-none-any.whl.metadata (18 kB)\n",
            "Requirement already satisfied: colorama in d:\\ict academy\\git_clone\\llm_gradio_chatbots\\.venv\\lib\\site-packages (from click>=8.0.0->typer<1.0,>=0.12->gradio) (0.4.6)\n",
            "Requirement already satisfied: six>=1.5 in d:\\ict academy\\git_clone\\llm_gradio_chatbots\\.venv\\lib\\site-packages (from python-dateutil>=2.8.2->pandas<3.0,>=1.0->gradio) (1.17.0)\n",
            "Collecting markdown-it-py>=2.2.0 (from rich>=10.11.0->typer<1.0,>=0.12->gradio)\n",
            "  Using cached markdown_it_py-3.0.0-py3-none-any.whl.metadata (6.9 kB)\n",
            "Requirement already satisfied: pygments<3.0.0,>=2.13.0 in d:\\ict academy\\git_clone\\llm_gradio_chatbots\\.venv\\lib\\site-packages (from rich>=10.11.0->typer<1.0,>=0.12->gradio) (2.19.1)\n",
            "Collecting charset-normalizer<4,>=2 (from requests->huggingface-hub>=0.28.1->gradio)\n",
            "  Using cached charset_normalizer-3.4.1-cp312-cp312-win_amd64.whl.metadata (36 kB)\n",
            "Collecting urllib3<3,>=1.21.1 (from requests->huggingface-hub>=0.28.1->gradio)\n",
            "  Using cached urllib3-2.3.0-py3-none-any.whl.metadata (6.5 kB)\n",
            "Collecting mdurl~=0.1 (from markdown-it-py>=2.2.0->rich>=10.11.0->typer<1.0,>=0.12->gradio)\n",
            "  Using cached mdurl-0.1.2-py3-none-any.whl.metadata (1.6 kB)\n",
            "Downloading gradio-5.21.0-py3-none-any.whl (46.2 MB)\n",
            "   ---------------------------------------- 0.0/46.2 MB ? eta -:--:--\n",
            "    --------------------------------------- 1.0/46.2 MB 7.1 MB/s eta 0:00:07\n",
            "   - -------------------------------------- 1.3/46.2 MB 3.5 MB/s eta 0:00:13\n",
            "   - -------------------------------------- 1.8/46.2 MB 3.9 MB/s eta 0:00:12\n",
            "   -- ------------------------------------- 3.4/46.2 MB 4.4 MB/s eta 0:00:10\n",
            "   --- ------------------------------------ 3.9/46.2 MB 3.9 MB/s eta 0:00:11\n",
            "   ---- ----------------------------------- 5.0/46.2 MB 4.2 MB/s eta 0:00:10\n",
            "   ----- ---------------------------------- 6.0/46.2 MB 4.1 MB/s eta 0:00:10\n",
            "   ----- ---------------------------------- 6.8/46.2 MB 4.1 MB/s eta 0:00:10\n",
            "   ------ --------------------------------- 7.6/46.2 MB 4.1 MB/s eta 0:00:10\n",
            "   ------- -------------------------------- 8.4/46.2 MB 4.1 MB/s eta 0:00:10\n",
            "   ------- -------------------------------- 9.2/46.2 MB 4.0 MB/s eta 0:00:10\n",
            "   -------- ------------------------------- 10.0/46.2 MB 4.0 MB/s eta 0:00:09\n",
            "   --------- ------------------------------ 11.0/46.2 MB 4.0 MB/s eta 0:00:09\n",
            "   ---------- ----------------------------- 11.8/46.2 MB 4.0 MB/s eta 0:00:09\n",
            "   ---------- ----------------------------- 12.6/46.2 MB 4.0 MB/s eta 0:00:09\n",
            "   ----------- ---------------------------- 13.4/46.2 MB 4.0 MB/s eta 0:00:09\n",
            "   ------------ --------------------------- 14.2/46.2 MB 4.0 MB/s eta 0:00:09\n",
            "   ------------ --------------------------- 14.9/46.2 MB 4.0 MB/s eta 0:00:08\n",
            "   ------------- -------------------------- 15.5/46.2 MB 4.0 MB/s eta 0:00:08\n",
            "   -------------- ------------------------- 16.3/46.2 MB 3.9 MB/s eta 0:00:08\n",
            "   -------------- ------------------------- 16.8/46.2 MB 3.9 MB/s eta 0:00:08\n",
            "   --------------- ------------------------ 17.6/46.2 MB 3.8 MB/s eta 0:00:08\n",
            "   --------------- ------------------------ 18.4/46.2 MB 3.8 MB/s eta 0:00:08\n",
            "   ---------------- ----------------------- 19.4/46.2 MB 3.8 MB/s eta 0:00:07\n",
            "   ----------------- ---------------------- 20.2/46.2 MB 3.8 MB/s eta 0:00:07\n",
            "   ------------------ --------------------- 21.0/46.2 MB 3.8 MB/s eta 0:00:07\n",
            "   ------------------ --------------------- 21.8/46.2 MB 3.8 MB/s eta 0:00:07\n",
            "   ------------------- -------------------- 22.5/46.2 MB 3.8 MB/s eta 0:00:07\n",
            "   -------------------- ------------------- 23.6/46.2 MB 3.8 MB/s eta 0:00:06\n",
            "   --------------------- ------------------ 24.4/46.2 MB 3.8 MB/s eta 0:00:06\n",
            "   --------------------- ------------------ 25.2/46.2 MB 3.8 MB/s eta 0:00:06\n",
            "   ---------------------- ----------------- 26.0/46.2 MB 3.9 MB/s eta 0:00:06\n",
            "   ----------------------- ---------------- 26.7/46.2 MB 3.9 MB/s eta 0:00:06\n",
            "   ------------------------ --------------- 27.8/46.2 MB 3.9 MB/s eta 0:00:05\n",
            "   ------------------------ --------------- 28.6/46.2 MB 3.9 MB/s eta 0:00:05\n",
            "   ------------------------- -------------- 29.4/46.2 MB 3.9 MB/s eta 0:00:05\n",
            "   -------------------------- ------------- 30.1/46.2 MB 3.9 MB/s eta 0:00:05\n",
            "   -------------------------- ------------- 30.9/46.2 MB 3.9 MB/s eta 0:00:04\n",
            "   --------------------------- ------------ 31.7/46.2 MB 3.9 MB/s eta 0:00:04\n",
            "   ---------------------------- ----------- 32.5/46.2 MB 3.9 MB/s eta 0:00:04\n",
            "   ---------------------------- ----------- 33.3/46.2 MB 3.9 MB/s eta 0:00:04\n",
            "   ----------------------------- ---------- 34.1/46.2 MB 3.9 MB/s eta 0:00:04\n",
            "   ------------------------------ --------- 35.1/46.2 MB 3.9 MB/s eta 0:00:03\n",
            "   ------------------------------- -------- 35.9/46.2 MB 3.9 MB/s eta 0:00:03\n",
            "   ------------------------------- -------- 36.7/46.2 MB 3.9 MB/s eta 0:00:03\n",
            "   -------------------------------- ------- 37.5/46.2 MB 3.9 MB/s eta 0:00:03\n",
            "   --------------------------------- ------ 38.3/46.2 MB 3.9 MB/s eta 0:00:03\n",
            "   --------------------------------- ------ 39.1/46.2 MB 3.9 MB/s eta 0:00:02\n",
            "   ---------------------------------- ----- 39.8/46.2 MB 3.9 MB/s eta 0:00:02\n",
            "   ----------------------------------- ---- 40.6/46.2 MB 3.9 MB/s eta 0:00:02\n",
            "   ----------------------------------- ---- 41.4/46.2 MB 3.9 MB/s eta 0:00:02\n",
            "   ------------------------------------ --- 42.2/46.2 MB 3.9 MB/s eta 0:00:02\n",
            "   ------------------------------------- -- 43.0/46.2 MB 3.9 MB/s eta 0:00:01\n",
            "   -------------------------------------- - 44.0/46.2 MB 3.9 MB/s eta 0:00:01\n",
            "   -------------------------------------- - 44.8/46.2 MB 3.9 MB/s eta 0:00:01\n",
            "   ---------------------------------------  45.6/46.2 MB 3.9 MB/s eta 0:00:01\n",
            "   ---------------------------------------- 46.2/46.2 MB 3.8 MB/s eta 0:00:00\n",
            "Using cached gradio_client-1.7.2-py3-none-any.whl (322 kB)\n",
            "Using cached aiofiles-23.2.1-py3-none-any.whl (15 kB)\n",
            "Using cached fastapi-0.115.11-py3-none-any.whl (94 kB)\n",
            "Using cached groovy-0.1.2-py3-none-any.whl (14 kB)\n",
            "Using cached huggingface_hub-0.29.3-py3-none-any.whl (468 kB)\n",
            "Using cached jinja2-3.1.6-py3-none-any.whl (134 kB)\n",
            "Using cached MarkupSafe-2.1.5-cp312-cp312-win_amd64.whl (17 kB)\n",
            "Using cached numpy-2.2.3-cp312-cp312-win_amd64.whl (12.6 MB)\n",
            "Using cached orjson-3.10.15-cp312-cp312-win_amd64.whl (133 kB)\n",
            "Using cached pandas-2.2.3-cp312-cp312-win_amd64.whl (11.5 MB)\n",
            "Using cached pillow-11.1.0-cp312-cp312-win_amd64.whl (2.6 MB)\n",
            "Using cached python_multipart-0.0.20-py3-none-any.whl (24 kB)\n",
            "Using cached PyYAML-6.0.2-cp312-cp312-win_amd64.whl (156 kB)\n",
            "Downloading ruff-0.11.0-py3-none-win_amd64.whl (11.4 MB)\n",
            "   ---------------------------------------- 0.0/11.4 MB ? eta -:--:--\n",
            "   --- ------------------------------------ 1.0/11.4 MB 6.3 MB/s eta 0:00:02\n",
            "   ------ --------------------------------- 1.8/11.4 MB 4.8 MB/s eta 0:00:02\n",
            "   --------- ------------------------------ 2.6/11.4 MB 4.4 MB/s eta 0:00:02\n",
            "   ----------- ---------------------------- 3.1/11.4 MB 4.2 MB/s eta 0:00:02\n",
            "   -------------- ------------------------- 4.2/11.4 MB 4.0 MB/s eta 0:00:02\n",
            "   ---------------- ----------------------- 4.7/11.4 MB 3.8 MB/s eta 0:00:02\n",
            "   ------------------- -------------------- 5.5/11.4 MB 3.8 MB/s eta 0:00:02\n",
            "   ---------------------- ----------------- 6.6/11.4 MB 3.8 MB/s eta 0:00:02\n",
            "   ------------------------- -------------- 7.3/11.4 MB 3.8 MB/s eta 0:00:02\n",
            "   ---------------------------- ----------- 8.1/11.4 MB 3.8 MB/s eta 0:00:01\n",
            "   ------------------------------- -------- 8.9/11.4 MB 3.8 MB/s eta 0:00:01\n",
            "   --------------------------------- ------ 9.7/11.4 MB 3.8 MB/s eta 0:00:01\n",
            "   ------------------------------------ --- 10.5/11.4 MB 3.8 MB/s eta 0:00:01\n",
            "   ---------------------------------------- 11.4/11.4 MB 3.8 MB/s eta 0:00:00\n",
            "Using cached safehttpx-0.1.6-py3-none-any.whl (8.7 kB)\n",
            "Using cached semantic_version-2.10.0-py2.py3-none-any.whl (15 kB)\n",
            "Downloading starlette-0.46.1-py3-none-any.whl (71 kB)\n",
            "Using cached tomlkit-0.13.2-py3-none-any.whl (37 kB)\n",
            "Using cached typer-0.15.2-py3-none-any.whl (45 kB)\n",
            "Using cached uvicorn-0.34.0-py3-none-any.whl (62 kB)\n",
            "Using cached ffmpy-0.5.0-py3-none-any.whl (6.0 kB)\n",
            "Using cached pydub-0.25.1-py2.py3-none-any.whl (32 kB)\n",
            "Using cached click-8.1.8-py3-none-any.whl (98 kB)\n",
            "Downloading fsspec-2025.3.0-py3-none-any.whl (193 kB)\n",
            "Using cached pytz-2025.1-py2.py3-none-any.whl (507 kB)\n",
            "Using cached rich-13.9.4-py3-none-any.whl (242 kB)\n",
            "Using cached shellingham-1.5.4-py2.py3-none-any.whl (9.8 kB)\n",
            "Using cached tqdm-4.67.1-py3-none-any.whl (78 kB)\n",
            "Using cached tzdata-2025.1-py2.py3-none-any.whl (346 kB)\n",
            "Using cached websockets-15.0.1-cp312-cp312-win_amd64.whl (176 kB)\n",
            "Using cached filelock-3.18.0-py3-none-any.whl (16 kB)\n",
            "Using cached requests-2.32.3-py3-none-any.whl (64 kB)\n",
            "Using cached charset_normalizer-3.4.1-cp312-cp312-win_amd64.whl (102 kB)\n",
            "Using cached markdown_it_py-3.0.0-py3-none-any.whl (87 kB)\n",
            "Using cached urllib3-2.3.0-py3-none-any.whl (128 kB)\n",
            "Using cached mdurl-0.1.2-py3-none-any.whl (10.0 kB)\n",
            "Installing collected packages: pytz, pydub, websockets, urllib3, tzdata, tqdm, tomlkit, shellingham, semantic-version, ruff, pyyaml, python-multipart, pillow, orjson, numpy, mdurl, markupsafe, groovy, fsspec, filelock, ffmpy, click, charset-normalizer, aiofiles, uvicorn, starlette, requests, pandas, markdown-it-py, jinja2, safehttpx, rich, huggingface-hub, fastapi, typer, gradio-client, gradio\n",
            "Successfully installed aiofiles-23.2.1 charset-normalizer-3.4.1 click-8.1.8 fastapi-0.115.11 ffmpy-0.5.0 filelock-3.18.0 fsspec-2025.3.0 gradio-5.21.0 gradio-client-1.7.2 groovy-0.1.2 huggingface-hub-0.29.3 jinja2-3.1.6 markdown-it-py-3.0.0 markupsafe-2.1.5 mdurl-0.1.2 numpy-2.2.3 orjson-3.10.15 pandas-2.2.3 pillow-11.1.0 pydub-0.25.1 python-multipart-0.0.20 pytz-2025.1 pyyaml-6.0.2 requests-2.32.3 rich-13.9.4 ruff-0.11.0 safehttpx-0.1.6 semantic-version-2.10.0 shellingham-1.5.4 starlette-0.46.1 tomlkit-0.13.2 tqdm-4.67.1 typer-0.15.2 tzdata-2025.1 urllib3-2.3.0 uvicorn-0.34.0 websockets-15.0.1\n",
            "Note: you may need to restart the kernel to use updated packages.\n"
          ]
        }
      ],
      "source": [
        "pip install gradio"
      ]
    },
    {
      "cell_type": "markdown",
      "metadata": {
        "id": "hAHRE8mwF9YP"
      },
      "source": [
        "# Import the Packages"
      ]
    },
    {
      "cell_type": "code",
      "execution_count": 3,
      "metadata": {
        "id": "G2NgNuRtF8sa"
      },
      "outputs": [
        {
          "name": "stderr",
          "output_type": "stream",
          "text": [
            "d:\\ICT Academy\\Git_Clone\\LLM_Gradio_Chatbots\\.venv\\Lib\\site-packages\\tqdm\\auto.py:21: TqdmWarning: IProgress not found. Please update jupyter and ipywidgets. See https://ipywidgets.readthedocs.io/en/stable/user_install.html\n",
            "  from .autonotebook import tqdm as notebook_tqdm\n"
          ]
        }
      ],
      "source": [
        "import gradio\n",
        "from groq import Groq"
      ]
    },
    {
      "cell_type": "code",
      "execution_count": 4,
      "metadata": {
        "id": "wo-F9exhi0Go"
      },
      "outputs": [],
      "source": [
        "client = Groq(api_key=\"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\",)"
      ]
    },
    {
      "cell_type": "markdown",
      "metadata": {
        "id": "UBDBWdaGGdly"
      },
      "source": [
        "#Define a function to give content and role"
      ]
    },
    {
      "cell_type": "code",
      "execution_count": 5,
      "metadata": {
        "id": "JXTcFFD3Gn7Z"
      },
      "outputs": [],
      "source": [
        "def initialize_messages():\n",
        "    return [{\"role\": \"system\",\n",
        "             \"content\": \"You are a renowned oncologist with a proven track record in successfully guiding cancer patients through their journey. Your role is to provide accurate, compassionate, and research-backed information on cancer prevention, diagnosis, treatment options, and survivorship.\"}]"
      ]
    },
    {
      "cell_type": "markdown",
      "metadata": {
        "id": "Dguo_7R7GuPx"
      },
      "source": [
        "#Assign it to a variable"
      ]
    },
    {
      "cell_type": "code",
      "execution_count": 6,
      "metadata": {
        "id": "O9GE9CyoGpUh"
      },
      "outputs": [],
      "source": [
        "messages_prmt = initialize_messages()"
      ]
    },
    {
      "cell_type": "markdown",
      "metadata": {
        "id": "dgLDPP9qGtjv"
      },
      "source": [
        "#Define a function to connect with LLM"
      ]
    },
    {
      "cell_type": "code",
      "execution_count": 7,
      "metadata": {
        "id": "SWPdbfb3kUWN"
      },
      "outputs": [],
      "source": [
        "def customLLMBot(user_input, history):\n",
        "    global messages_prmt\n",
        "\n",
        "    messages_prmt.append({\"role\": \"user\", \"content\": user_input})\n",
        "\n",
        "    response = client.chat.completions.create(\n",
        "        messages=messages_prmt,\n",
        "        model=\"llama3-8b-8192\",\n",
        "    )\n",
        "    print(response)\n",
        "    LLM_reply = response.choices[0].message.content\n",
        "    messages_prmt.append({\"role\": \"assistant\", \"content\": LLM_reply})\n",
        "\n",
        "    return LLM_reply"
      ]
    },
    {
      "cell_type": "markdown",
      "metadata": {
        "id": "oKw3wPFbHa8L"
      },
      "source": [
        "#Create an object of chat interface class in gradio"
      ]
    },
    {
      "cell_type": "code",
      "execution_count": 8,
      "metadata": {
        "colab": {
          "base_uri": "https://localhost:8080/"
        },
        "id": "nzNnXvP-HWth",
        "outputId": "c6c2d98b-3266-4afc-b3c5-ab30a2c8033b"
      },
      "outputs": [
        {
          "name": "stderr",
          "output_type": "stream",
          "text": [
            "C:\\Users\\Jyothy\\AppData\\Local\\Temp\\ipykernel_22104\\28459979.py:2: UserWarning: You have not specified a value for the `type` parameter. Defaulting to the 'tuples' format for chatbot messages, but this is deprecated and will be removed in a future version of Gradio. Please set type='messages' instead, which uses openai-style dictionaries with 'role' and 'content' keys.\n",
            "  chatbot=gradio.Chatbot(height=300),\n",
            "d:\\ICT Academy\\Git_Clone\\LLM_Gradio_Chatbots\\.venv\\Lib\\site-packages\\gradio\\chat_interface.py:317: UserWarning: The gr.ChatInterface was not provided with a type, so the type of the gr.Chatbot, 'tuples', will be used.\n",
            "  warnings.warn(\n"
          ]
        }
      ],
      "source": [
        "iface = gradio.ChatInterface(customLLMBot,\n",
        "                     chatbot=gradio.Chatbot(height=300),\n",
        "                     textbox=gradio.Textbox(placeholder=\"Ask me a question related to cancer treatment\"),\n",
        "                     title=\"Hope\",\n",
        "                     description=\"AI-Powered Cancer Care Assistant\",\n",
        "                     theme=\"glass\",\n",
        "                     examples=[\"Hi\",\"What are the early signs of cancer?\", \"What are the side effects of chemotherapy?\"],\n",
        "                     submit_btn=True\n",
        "\n",
        "                     )"
      ]
    },
    {
      "cell_type": "markdown",
      "metadata": {
        "id": "3uPGx5-xHqVq"
      },
      "source": [
        "#Call launch function to execute"
      ]
    },
    {
      "cell_type": "code",
      "execution_count": 9,
      "metadata": {
        "colab": {
          "base_uri": "https://localhost:8080/",
          "height": 611
        },
        "id": "5AO10vRxH27X",
        "outputId": "058664fa-4168-47c5-a021-14a7c7dfbd98"
      },
      "outputs": [
        {
          "name": "stdout",
          "output_type": "stream",
          "text": [
            "* Running on local URL:  http://127.0.0.1:7860\n",
            "* Running on public URL: https://a90f1d8ef82fc71171.gradio.live\n",
            "\n",
            "This share link expires in 72 hours. For free permanent hosting and GPU upgrades, run `gradio deploy` from the terminal in the working directory to deploy to Hugging Face Spaces (https://huggingface.co/spaces)\n"
          ]
        },
        {
          "data": {
            "text/html": [
              "<div><iframe src=\"https://a90f1d8ef82fc71171.gradio.live\" width=\"100%\" height=\"500\" allow=\"autoplay; camera; microphone; clipboard-read; clipboard-write;\" frameborder=\"0\" allowfullscreen></iframe></div>"
            ],
            "text/plain": [
              "<IPython.core.display.HTML object>"
            ]
          },
          "metadata": {},
          "output_type": "display_data"
        },
        {
          "data": {
            "text/plain": []
          },
          "execution_count": 9,
          "metadata": {},
          "output_type": "execute_result"
        }
      ],
      "source": [
        "iface.launch(share=True)"
      ]
    },
    {
      "cell_type": "code",
      "execution_count": null,
      "metadata": {
        "id": "MHK-5ckiXXPL"
      },
      "outputs": [],
      "source": []
    }
  ],
  "metadata": {
    "accelerator": "GPU",
    "colab": {
      "gpuType": "T4",
      "provenance": []
    },
    "kernelspec": {
      "display_name": ".venv",
      "language": "python",
      "name": "python3"
    },
    "language_info": {
      "codemirror_mode": {
        "name": "ipython",
        "version": 3
      },
      "file_extension": ".py",
      "mimetype": "text/x-python",
      "name": "python",
      "nbconvert_exporter": "python",
      "pygments_lexer": "ipython3",
      "version": "3.12.6"
    }
  },
  "nbformat": 4,
  "nbformat_minor": 0
}
